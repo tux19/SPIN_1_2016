{
 "cells": [
  {
   "cell_type": "markdown",
   "metadata": {},
   "source": [
    "# SPIN 1 - VL07 -- 3D Grafik, Lorenz Attraktor, Chaos"
   ]
  },
  {
   "cell_type": "markdown",
   "metadata": {},
   "source": [
    "$\\frac{y_s}{y} = \\frac{d_s}{d_0 + z}$\n",
    "\n",
    "$\\left(\\frac{x_s}{y_s}\\right)$\n",
    "\n",
    "-z nie grösser als D_o"
   ]
  },
  {
   "cell_type": "code",
   "execution_count": null,
   "metadata": {
    "collapsed": true
   },
   "outputs": [],
   "source": [
    "for i in range(0,4):\n",
    "    [x[i],y[i]], x[i+1], y[i+i]\n",
    "    [x[i+5],y[i+5]], x[i+6], y[i+6]\n",
    "    [x[i],y[i]], x[i+5], y[i+5]\n",
    "\n",
    "[x[i],y[i]], x[0], y[0]\n",
    "[x[i+5],y[i+5]], x[5], y[5]\n",
    "[x[0],y[0]], x[5], y[5]"
   ]
  },
  {
   "cell_type": "code",
   "execution_count": null,
   "metadata": {},
   "outputs": [],
   "source": [
    ""
   ]
  },
  {
   "cell_type": "code",
   "execution_count": null,
   "metadata": {},
   "outputs": [],
   "source": [
    ""
   ]
  }
 ],
 "metadata": {
  "kernelspec": {
   "display_name": "Python 3",
   "language": "python",
   "name": "python3"
  },
  "language_info": {
   "codemirror_mode": {
    "name": "ipython",
    "version": 3.0
   },
   "file_extension": ".py",
   "mimetype": "text/x-python",
   "name": "python",
   "nbconvert_exporter": "python",
   "pygments_lexer": "ipython3",
   "version": "3.5.1"
  }
 },
 "nbformat": 4,
 "nbformat_minor": 0
}