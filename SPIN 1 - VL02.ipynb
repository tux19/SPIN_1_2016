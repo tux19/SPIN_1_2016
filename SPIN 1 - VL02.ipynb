{
 "cells": [
  {
   "cell_type": "markdown",
   "metadata": {},
   "source": [
    "# SPIN 1 - VL 02 \n",
    "\n",
    "\n",
    "## Vortsetzung: Nullstellensuche\n",
    "\n",
    "### Newtonsches Verfahren\n",
    "Das Newton-Verfahren, auch Newton-Raphson-Verfahren, (benannt nach Sir Isaac Newton 1669 und Joseph Raphson 1690) ist in der Mathematik ein Standardverfahren zur numerischen Lösung von nichtlinearen Gleichungen und Gleichungssystemen. \n",
    "\n",
    "Formal ausgedrückt wird ausgehend von einem Startwert x_0 die Iteration\n",
    "\n",
    "$x_{n+1} = x_n - \\frac{f(x_n)}{f'(x_n)}$\n",
    "\n",
    "wiederholt, bis eine hinreichende Genauigkeit erzielt wird."
   ]
  },
  {
   "cell_type": "code",
   "execution_count": 1,
   "metadata": {
    "collapsed": false
   },
   "outputs": [
    {
     "name": "stdout",
     "output_type": "stream",
     "text": [
      "Solve for x in 3*x**5 - 2*x**3 + 1*x - 37 = 0\n",
      "x = 1.722575335786\n",
      "Number of Iterations = 10\n"
     ]
    }
   ],
   "source": [
    "def derivative(f):\n",
    "    def compute(x, dx):\n",
    "        return (f(x+dx) - f(x))/dx\n",
    "    return compute\n",
    "\n",
    "def newtons_method(f, x, dx=0.000001, tolerance=0.000001):\n",
    "    df = derivative(f)\n",
    "    cnt = 0\n",
    "    while True:\n",
    "        cnt += 1\n",
    "        x1 = x - f(x)/df(x, dx)\n",
    "        t = abs(x1 - x)\n",
    "        if t < tolerance:\n",
    "            break\n",
    "        x = x1\n",
    "        \n",
    "    return [x, cnt]\n",
    "\n",
    "\n",
    "def f(x):\n",
    "    return 3*x**5 - 2*x**3 + 1*x - 37\n",
    "\n",
    "\n",
    "x_approx = 1  # rough guess\n",
    "# f refers to the function f(x)\n",
    "x, cnt = newtons_method(f, x_approx)\n",
    "print(\"Solve for x in 3*x**5 - 2*x**3 + 1*x - 37 = 0\")\n",
    "print(\"x = %0.12f\" % x)\n",
    "print(\"Number of Iterations = %d\" % cnt)"
   ]
  },
  {
   "cell_type": "markdown",
   "metadata": {},
   "source": [
    "Das Newton-Verfahren hat eine lokale quadratische Konvergenz, ist aber nicht so stabil wie das Bisektionsverfahren."
   ]
  },
  {
   "cell_type": "code",
   "execution_count": 2,
   "metadata": {
    "collapsed": true
   },
   "outputs": [],
   "source": [
    "#TODO Wurzeln?"
   ]
  },
  {
   "cell_type": "markdown",
   "metadata": {},
   "source": [
    "## Kepler Gleichung\n",
    "\n",
    "Die Kepler-Gleichung ist eine transzendente Gleichung zur Berechnung elliptischer Bahnen von Himmelskörpern. Sie ergibt sich aus den ersten beiden Kepler'schen Gesetzen, die Johannes Kepler 1609 publizierte, und lautet\n",
    "\n",
    "$M = E - e \\cdot \\sin E$\n",
    "\n",
    "$e$ ist die Eccentricität, $M$ ist die mittlere Anomalie und $E$ die exzentrische Anomalie, dabei ist $E_0 = M$. $E$ und $M$ werden Gebraucht um Punkte auf einem Keplerschen Orbit zu bestimmen.\n",
    "\n",
    "$M = nt$ wobei $n = {2\\pi}/T$ und $T=a^{3/2}$\n",
    "\n",
    "Daraus lässt sich dann folgendes berechnen:\n",
    "\n",
    "$f(E)=E-e\\cdot \\sin E - M$\n",
    "\n",
    "$f'(E)=1-e\\cdot \\sin E $\n",
    "\n",
    "Um die Punkte eines Keplerschen Orbits lassen sich mit folgenden Gleichungen Berechnen:\n",
    "\n",
    " \\begin{array}{lcl}\n",
    "x & =  & a (\\cos E - e) \\\\\n",
    "y & = &  a \\sqrt{1-e^2} \\sin E\n",
    "\\end{array}\n",
    " \n",
    " $a\\sqrt{1-e^2}$ ist die kleinere Halbachse b.\n",
    " Um $E$ in Abhängigkeit von $t$ zu bekommen $E(t)$, kann man die Nullstellen der Kepplergleichung mit Hilfe der Newton-Methode berechnen.\n",
    " "
   ]
  },
  {
   "cell_type": "code",
   "execution_count": 52,
   "metadata": {
    "collapsed": false
   },
   "outputs": [
    {
     "name": "stdout",
     "output_type": "stream",
     "text": [
      "283\n"
     ]
    },
    {
     "data": {
      "image/png": "[encoded data removed]",
      "text/plain": [
       "<matplotlib.figure.Figure at 0x618b250>"
      ]
     },
     "metadata": {},
     "output_type": "display_data"
    }
   ],
   "source": [
    "%matplotlib inline\n",
    "import math\n",
    "import numpy as np\n",
    "from pylab import *\n",
    "dt = 0.01\n",
    "e = 0.44\n",
    "a = 2\n",
    "T = a**(3/2)\n",
    "n = (2 * math.pi) / T\n",
    "M = np.arange(0,T, dt) * n\n",
    "print(len(M))\n",
    "E = [M[0]]\n",
    "def f(E,e,M):\n",
    "    return E - e*np.sin(E) - M\n",
    "\n",
    "def df(E,e):\n",
    "    return 1 - e*np.sin(E)\n",
    "\n",
    "def newtons_method(f, df, E, e, M, tolerance=0.0001):\n",
    "    while True:\n",
    "        x1 = E - f(E,e,M)/df(E,e)\n",
    "        t = abs(x1 - E)\n",
    "        if t < tolerance:\n",
    "            break\n",
    "        E = x1\n",
    "    return E\n",
    "\n",
    "def point(E,e):\n",
    "    return [a * (np.cos(E) - e), a * sqrt(1 - e**2) * np.sin(E)]\n",
    "\n",
    "for i in range(1,len(M)):\n",
    "    e_new = newtons_method(f,df,E[i-1],e,M[i-1])\n",
    "    E.append(e_new)\n",
    "\n",
    "x,y = point(E,e)\n",
    "figure()\n",
    "plot(x,y,\"r\")\n",
    "plot(0,0,\"o\")\n",
    "show()\n"
   ]
  },
  {
   "cell_type": "code",
   "execution_count": null,
   "metadata": {
    "collapsed": true
   },
   "outputs": [],
   "source": []
  }
 ],
 "metadata": {
  "kernelspec": {
   "display_name": "Python 3",
   "language": "python",
   "name": "python3"
  },
  "language_info": {
   "codemirror_mode": {
    "name": "ipython",
    "version": 3
   },
   "file_extension": ".py",
   "mimetype": "text/x-python",
   "name": "python",
   "nbconvert_exporter": "python",
   "pygments_lexer": "ipython3",
   "version": "3.5.1"
  }
 },
 "nbformat": 4,
 "nbformat_minor": 0
}
