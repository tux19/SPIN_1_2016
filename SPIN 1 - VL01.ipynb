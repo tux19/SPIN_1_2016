{
 "cells": [
  {
   "cell_type": "markdown",
   "metadata": {
    "collapsed": true
   },
   "source": [
    "# SPIN 1 - VL 01 \n",
    "\n",
    "\n",
    "## Ganzzahlen Darstellung\n",
    "\n",
    "Ganze Zahlen werden üblicherweise in 32 Bit `int` oder 64 Bit `long` gespeichert (Java, C++, etc.).\n",
    "Für nicht-negative Zahlen können damit $2^{32} $ dargestellt werden (C++ -> `uint_32t`)\n",
    "\n",
    "Sind die Zahlen Vorzeichen behaftet (signed) haben sie ein Paritäts Bit und können nur $2^{32}-1 $ Zahlen im Zahlenbereich $[-2^{31},2^{31}-1] $ darstellen.\n",
    "\n",
    "Negative Zahlen werden im 2er Komplement gespeichert, also Komplement der Bitfolge + 1!!\n",
    "\n",
    "## Gleitkommazahlen Darstellung - IEEE\n",
    "\n",
    "-  Fehler bei Underflow/Overflow, Runden\n",
    "-  Runden:\n",
    "    >  Bei binären Rundungen muss zur nächstgelegenen darstellbaren Zahl gerundet werden. Wenn diese nicht eindeutig definiert ist (genau in der Mitte zwischen zwei darstellbaren Zahlen), wird so gerundet, dass das niederwertigste Bit der Mantisse 0 wird. Statistisch wird dabei in 50 % der Fälle auf-, in den anderen 50 % der Fälle abgerundet, so dass die von Knuth beschriebene statistische Drift in längeren Rechnungen vermieden wird.\n",
    "-  Für `float` 32 Bit gilt:\n",
    "    -  1 Bit Parity\n",
    "    -  8 Bit Exponent, wobei der Exponent immer positiv ist, daher `E = e + B` und B die bias ist $2^{8-1}-1$ hier 127\n",
    "    -  23 Bit Mantisse\n",
    "-  Jeder float repräsentiert ein Intervall der reellen Zahlen, das Intervall wächst mit zunehmendem Betrag der Zahl, d.h. die Dichte der Repräsentation nimmt mit zunehmendem Betrag der Zahl ab.\n",
    "-  Behandlung von overflow/underflow, Null, „undefiniert“ nach IEEE Floating-Point Standard 754 (1985) (siehe A.S. Tanenbaum)\n",
    "\n",
    "## Nullstellensuche\n",
    "\n",
    "Um die Nullstellen berechnen zu können sind Formeln nur in beschränkten- und idealisierten Situationen zu gebrauchen. Oft lassen sich die Probleme nur durch Annäherungsverfahren lösen.\n",
    "\n",
    "### Bisectionsverfahren\n",
    "\n",
    "Das Bisektionsverfahren löst das Nullstellenproblem durch wiederholte Intervallteilung."
   ]
  },
  {
   "cell_type": "code",
   "execution_count": 1,
   "metadata": {
    "collapsed": true
   },
   "outputs": [],
   "source": [
    "def bisection(f, a, b, error):\n",
    "    cnt = 0\n",
    "    if a > 0 and b < 0:\n",
    "        swap(a,b)\n",
    "    while (abs(a-b) >= error):\n",
    "        cnt += 1\n",
    "        c = 0.5 * (a + b)\n",
    "        if f(c) > 0:\n",
    "            b = c\n",
    "        else:\n",
    "            a = c\n",
    "    return [c,cnt]"
   ]
  },
  {
   "cell_type": "markdown",
   "metadata": {},
   "source": [
    "übergeben wir der Bisektionsfunktion nun eine Funktion mit Startwert, Stopwert und Fehlertoleranz, bekommen wir das das gewünschte x, und die Anzahl der Iterationen zurück. "
   ]
  },
  {
   "cell_type": "code",
   "execution_count": 10,
   "metadata": {
    "collapsed": true
   },
   "outputs": [],
   "source": [
    "def f(x):\n",
    "    return x**3 - 1 "
   ]
  },
  {
   "cell_type": "code",
   "execution_count": 12,
   "metadata": {
    "collapsed": false
   },
   "outputs": [
    {
     "name": "stdout",
     "output_type": "stream",
     "text": [
      "Nullstelle bei x = 1.000030517578125 Anzahl Iterationen = 16\n"
     ]
    }
   ],
   "source": [
    "a = -3\n",
    "b = 3\n",
    "e = 0.0001\n",
    "[x,cnt] = bisection(f,a,b,e)\n",
    "print(\"Nullstelle bei x = \" + str(x) + \" Anzahl Iterationen = \" + str(cnt))"
   ]
  },
  {
   "cell_type": "markdown",
   "metadata": {},
   "source": [
    "**Voraussetzungen:**\n",
    "-  Vorzeichenwechsel __muss__ im gewähleten Intervall `[a,b]` vorliegen, und die Funktion muss stetig sein!\n",
    "\n",
    "Eignet sich besonders falls die bekannten Startwerte nicht hinreichend nahe genug an der Nullstelle liegen, und keine lokale Konvergenz eintritt (benötigt für klassische Verfahlen wie z.B. Newton)\n",
    "\n",
    "**Nachteile:**\n",
    "-  Bei einfachen Fällen (streng monotone Funktion) ist sie langsamer als ein quadratisch konvergentes Verfahren (lineare Konvergenz)\n",
    "-  Ohne Vorzeichenwechsel im gegebenen Intervall sind Zusatzprüfungen notwendig, um ein lokales Minimum von einer Nullstelle zu unterscheiden\n",
    "\n",
    "**Vorteile:**\n",
    "-  sehr stabil\n"
   ]
  }
 ],
 "metadata": {
  "kernelspec": {
   "display_name": "Python 3",
   "language": "python",
   "name": "python3"
  },
  "language_info": {
   "codemirror_mode": {
    "name": "ipython",
    "version": 3
   },
   "file_extension": ".py",
   "mimetype": "text/x-python",
   "name": "python",
   "nbconvert_exporter": "python",
   "pygments_lexer": "ipython3",
   "version": "3.5.1"
  }
 },
 "nbformat": 4,
 "nbformat_minor": 0
}
