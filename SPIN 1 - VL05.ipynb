{
 "cells": [
  {
   "cell_type": "markdown",
   "metadata": {},
   "source": [
    "# SPIN 1 - VL05 -- Gravitation und Leapfrog: Das Sonnensystem"
   ]
  },
  {
   "cell_type": "code",
   "execution_count": 24,
   "metadata": {
    "collapsed": true
   },
   "outputs": [],
   "source": [
    "import math\n",
    "import matplotlib.pyplot as plt\n",
    "%matplotlib inline\n",
    "# GMsun = k^2\n",
    "k = 0.01720209895\n",
    "\n",
    "#Datum = 18.03.08 00:00:00.0000,    2454543.500000000 = A.D.\n",
    "day = 2454543.500000000\n"
   ]
  },
  {
   "cell_type": "code",
   "execution_count": 43,
   "metadata": {
    "collapsed": false
   },
   "outputs": [
    {
     "name": "stdout",
     "output_type": "stream",
     "text": [
      "-18.5628872495846\n",
      "7.271014919421955e-06\n",
      "-4.0772689389135026e-07\n",
      "-1.1239750653839472e-05\n",
      "1.2113049880963256e-05\n",
      "3.1638459602224724e-07\n",
      "-1.9549509371309118e-05\n",
      "1.2100765767938964e-05\n",
      "-4.2444146627014256e-07\n",
      "-1.797867790363375e-07\n",
      "1.3504327298539096e-05\n",
      "1.5231014213713743e-11\n",
      "6.886778591145208e-09\n",
      "-5.243983774640669e-08\n",
      "-4.833330762079204e-08\n",
      "-2.5408443948434578e-05\n",
      "1.260418644313869e-05\n",
      "-4.2617083622497113e-07\n",
      "-1.8002782125639279e-07\n",
      "3.887318970601151e-05\n",
      "3.785370494121588e-12\n",
      "1.6811291972555658e-09\n",
      "-1.23522568787522e-08\n",
      "-1.0190611514333937e-08\n",
      "-5.197007224095285e-05\n",
      "1.3727816558266837e-05\n",
      "-4.2959618810603177e-07\n",
      "-1.8047988139413714e-07\n",
      "0.00316597778592384\n",
      "1.679083260797555e-12\n",
      "7.413817729960738e-10\n",
      "-5.3862165708941726e-09\n",
      "-4.406427499565287e-09\n",
      "-0.0031811476446768844\n",
      "1.5794889297584806e-05\n",
      "-4.34830637079181e-07\n",
      "-1.81150324246238e-07\n",
      "-1.8835893126012798e-05\n",
      "9.436342093534216e-13\n",
      "4.165062252986386e-10\n",
      "-3.001286056979469e-09\n",
      "-2.4852672725862415e-09\n",
      "1.5007468779784548e-07\n",
      "1.9316570943897503e-05\n",
      "-4.429718333864184e-07\n",
      "-1.8271156882606898e-07\n",
      "-2.5923352032768752e-05\n",
      "6.036380104379456e-13\n",
      "2.664317213039284e-10\n",
      "-1.910733460982713e-09\n",
      "-1.599896576972884e-09\n",
      "3.726496232290982e-08\n",
      "2.6527691476560217e-05\n",
      "-4.5367729063625387e-07\n",
      "-1.8468352079948281e-07\n",
      "-4.493596141828132e-05\n",
      "4.190377401555723e-13\n",
      "1.8402748422716332e-10\n",
      "-1.3223987755243681e-09\n",
      "-1.1169248885420807e-09\n",
      "1.6525211809438163e-08\n",
      "4.557542863246951e-05\n",
      "-4.6681658367731167e-07\n",
      "-1.8692096517822686e-07\n",
      "-0.00015478379923791725\n",
      "3.077374992685861e-13\n",
      "1.3474635833297148e-10\n",
      "-9.692497923320364e-10\n",
      "-8.264283565689795e-10\n",
      "9.285157165268824e-09\n",
      "0.00015544834134117771\n",
      "-4.827339913166472e-07\n",
      "-1.8943264505603839e-07\n"
     ]
    }
   ],
   "source": [
    " class Body:\n",
    "    def __init__(self, mass, r, v, f):\n",
    "        self.r = r\n",
    "        self.v = v\n",
    "        self.f = f\n",
    "        self.mass = mass\n",
    "\n",
    "sonne =  Body( 1.0, \n",
    "                [-3.402962055191472E-04, 4.973801475460748E-03,-6.230136454608636E-05], \n",
    "                [-6.477668621023070E-06,-1.292580409219799E-07, 1.154585032962209E-07], \n",
    "                [0,0,0])\n",
    "merkur = Body( 1.0/6023600, \n",
    "                [3.704735169720974E-02,-4.529211095852149E-01,-4.090255306376755E-02], \n",
    "                [2.239183874467135E-02, 3.736008439029809E-03,-1.750026916388115E-03], \n",
    "                [0,0,0])\n",
    "venus = Body( 1.0/408523.61,  \n",
    "                [4.272157290820016E-01,-5.835752726996720E-01,-3.279422047835795E-02], \n",
    "                [1.622328987696207E-02, 1.181629954076840E-02,-7.748242818668279E-04], \n",
    "                [0,0,0])\n",
    "erdemond = Body( 1.0/332946.050895,\n",
    "                [-9.948486972722731E-01, 4.564231864395614E-02,-6.099525188647536E-05],\n",
    "                [-9.901408163678924E-04,-1.725450198017297E-02, 4.346241632445323E-07], \n",
    "                [0,0,0])\n",
    "mars = Body( 1.0/3098708,\n",
    "                [-1.093539305796724E+00, 1.240381444357973E+00, 5.266905384900308E-02],\n",
    "                [-9.958470942542191E-03,-8.082316351751016E-03, 7.520708651107539E-05], \n",
    "                [0,0,0])\n",
    "jupiter = Body( 1.0/1047.3486,\n",
    "                [7.199075962861715E-01,-5.164765414047316E+00, 5.281301305052329E-03],\n",
    "                [7.380707839356994E-03, 1.399344086177555E-03,-1.710023430451413E-04], \n",
    "                [0,0,0])\n",
    "saturn = Body( 1.0/3497.898,\n",
    "                [-8.469664737705321E+00, 3.804527121928150E+00, 2.708474727487031E-01],\n",
    "                [-2.583089539225567E-03,-5.101976771205786E-03, 1.915567842416982E-04], \n",
    "                [0,0,0])\n",
    "uranus = Body( 1.0/22902.98,\n",
    "                [1.970001443062262E+01,-3.956376098536538E+00,-2.699288868040702E-01],\n",
    "                [7.457402740600397E-04, 3.672797797089092E-03, 3.988780204062304E-06], \n",
    "                [0,0,0])\n",
    "neptun = Body( 1.0/19412.24,\n",
    "                [2.361441531200179E+01,-1.856288724958460E+01,-1.619425696998957E-01],\n",
    "                [1.919278314221217E-03, 2.486348363416270E-03,-9.543324154983418E-05], \n",
    "                [0,0,0])\n",
    "pluto = Body( 1.0/135200000,\n",
    "                [-4.656585770964581E-01,-3.123136435608064E+01, 3.476634650132539E+00],\n",
    "                [3.195935187090267E-03,-6.368370346118488E-04,-8.563102596919757E-04], \n",
    "                [0,0,0])\n",
    "\n",
    "print(neptun.r[1])\n",
    "planeten = [sonne, merkur, venus, erdemond, mars, jupiter, saturn, uranus, neptun]\n",
    "N = len(planeten)\n",
    "h = 2.0\n",
    "data = [[[],[],[]], [[],[],[]], [[],[],[]], [[],[],[]], [[],[],[]], [[],[],[]], [[],[],[]], [[],[],[]], [[],[],[]], [[],[],[]]]\n",
    "def update_forces():\n",
    "    for p in planeten:\n",
    "        for l in range(0,3):\n",
    "            p.f[l] = 0.0\n",
    "    for i in range(0,N-1):\n",
    "        for j in range(i+1,N):\n",
    "            d2 = 0.0\n",
    "            ir = 0.0\n",
    "            ir3 = 0.0\n",
    "            \n",
    "            d = [0,0,0]\n",
    "            for l in range(0,3):\n",
    "                d[l] = planeten[j].r[l] - planeten[i].r[l]\n",
    "                d2 += d[l]**2\n",
    "            ir = 1.0 / math.sqrt(d2)\n",
    "            ir3 = ir**3\n",
    "            ir3 *= planeten[i].mass * planeten[j].mass\n",
    "            ir3 *= k**2\n",
    "            for l in range(0,3):\n",
    "                planeten[i].f[l] += ir3 * d[l]\n",
    "                planeten[j].f[l] -= ir3 * d[l]\n",
    "\n",
    "for iteration in range(0,8):\n",
    "    for p in planeten:\n",
    "        for k in range(0,3):\n",
    "            p.r[k] += 0.5 * h * p.v[k]\n",
    "            \n",
    "    update_forces()\n",
    "    \n",
    "    for p in planeten:\n",
    "        for k in range(0,3):\n",
    "            p.v[k] +=  h * (p.f[k] / p.mass)\n",
    "        print(str(p.f[0]))\n",
    "  \n",
    "    for p in range(0,N):\n",
    "        for k in range(0,3):\n",
    "            planeten[p].r[k] += 0.5 * h * planeten[p].v[k]\n",
    "        for k in range(0,3):\n",
    "            data[p][k].append(planeten[p].r[k])\n",
    "\n"
   ]
  },
  {
   "cell_type": "code",
   "execution_count": 41,
   "metadata": {
    "collapsed": false
   },
   "outputs": [
    {
     "data": {
      "text/plain": [
       "<matplotlib.legend.Legend at 0x73569f0>"
      ]
     },
     "execution_count": 41,
     "metadata": {},
     "output_type": "execute_result"
    },
    {
     "data": {
      "image/png": "[encoded data removed]",
      "text/plain": [
       "<matplotlib.figure.Figure at 0x7356ab0>"
      ]
     },
     "metadata": {},
     "output_type": "display_data"
    }
   ],
   "source": [
    "plt.plot(data[0][0], data[0][1], '-', label = 'sonne')\n",
    "plt.plot(data[1][0], data[1][1], '-', label = 'merkur')\n",
    "plt.plot(data[2][0], data[2][1], '-', label = 'venus')\n",
    "plt.plot(data[3][0], data[3][1], '-', label = 'erde')\n",
    "plt.plot(data[4][0], data[4][1], '-', label = 'mars')\n",
    "\n",
    "plt.legend(loc='upper right')"
   ]
  },
  {
   "cell_type": "code",
   "execution_count": null,
   "metadata": {
    "collapsed": true
   },
   "outputs": [],
   "source": []
  }
 ],
 "metadata": {
  "kernelspec": {
   "display_name": "Python 3",
   "language": "python",
   "name": "python3"
  },
  "language_info": {
   "codemirror_mode": {
    "name": "ipython",
    "version": 3
   },
   "file_extension": ".py",
   "mimetype": "text/x-python",
   "name": "python",
   "nbconvert_exporter": "python",
   "pygments_lexer": "ipython3",
   "version": "3.5.1"
  }
 },
 "nbformat": 4,
 "nbformat_minor": 0
}
