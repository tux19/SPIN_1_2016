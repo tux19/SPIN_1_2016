{
 "cells": [
  {
   "cell_type": "markdown",
   "metadata": {},
   "source": [
    "# SPIN 1 - VL05 -- Gravitation und Leapfrog: Das Sonnensystem"
   ]
  },
  {
   "cell_type": "code",
   "execution_count": 56,
   "metadata": {
    "collapsed": true
   },
   "outputs": [],
   "source": [
    "import math\n",
    "import matplotlib.pyplot as plt\n",
    "%matplotlib inline\n",
    "# GMsun = k^2\n",
    "k = 0.01720209895\n",
    "\n",
    "#Datum = 18.03.08 00:00:00.0000,    2454543.500000000 = A.D.\n",
    "day = 2454543.500000000"
   ]
  },
  {
   "cell_type": "code",
   "execution_count": 61,
   "metadata": {
    "collapsed": false,
    "scrolled": true
   },
   "outputs": [],
   "source": [
    "class Body:\n",
    "    def __init__(self, mass, r, v, f):\n",
    "        self.r = r\n",
    "        self.v = v\n",
    "        self.f = f\n",
    "        self.mass = mass\n",
    "\n",
    "sonne =  Body( 1.0, \n",
    "                [-3.402962055191472E-04, 4.973801475460748E-03,-6.230136454608636E-05], \n",
    "                [-6.477668621023070E-06,-1.292580409219799E-07, 1.154585032962209E-07], \n",
    "                [0,0,0])\n",
    "merkur = Body( 1.0/6023600, \n",
    "                [3.704735169720974E-02,-4.529211095852149E-01,-4.090255306376755E-02], \n",
    "                [2.239183874467135E-02, 3.736008439029809E-03,-1.750026916388115E-03], \n",
    "                [0,0,0])\n",
    "venus = Body( 1.0/408523.61,  \n",
    "                [4.272157290820016E-01,-5.835752726996720E-01,-3.279422047835795E-02], \n",
    "                [1.622328987696207E-02, 1.181629954076840E-02,-7.748242818668279E-04], \n",
    "                [0,0,0])\n",
    "erdemond = Body( 1.0/332946.050895,\n",
    "                [-9.948486972722731E-01, 4.564231864395614E-02,-6.099525188647536E-05],\n",
    "                [-9.901408163678924E-04,-1.725450198017297E-02, 4.346241632445323E-07], \n",
    "                [0,0,0])\n",
    "mars = Body( 1.0/3098708,\n",
    "                [-1.093539305796724E+00, 1.240381444357973E+00, 5.266905384900308E-02],\n",
    "                [-9.958470942542191E-03,-8.082316351751016E-03, 7.520708651107539E-05], \n",
    "                [0,0,0])\n",
    "jupiter = Body( 1.0/1047.3486,\n",
    "                [7.199075962861715E-01,-5.164765414047316E+00, 5.281301305052329E-03],\n",
    "                [7.380707839356994E-03, 1.399344086177555E-03,-1.710023430451413E-04], \n",
    "                [0,0,0])\n",
    "saturn = Body( 1.0/3497.898,\n",
    "                [-8.469664737705321E+00, 3.804527121928150E+00, 2.708474727487031E-01],\n",
    "                [-2.583089539225567E-03,-5.101976771205786E-03, 1.915567842416982E-04], \n",
    "                [0,0,0])\n",
    "uranus = Body( 1.0/22902.98,\n",
    "                [1.970001443062262E+01,-3.956376098536538E+00,-2.699288868040702E-01],\n",
    "                [7.457402740600397E-04, 3.672797797089092E-03, 3.988780204062304E-06], \n",
    "                [0,0,0])\n",
    "neptun = Body( 1.0/19412.24,\n",
    "                [2.361441531200179E+01,-1.856288724958460E+01,-1.619425696998957E-01],\n",
    "                [1.919278314221217E-03, 2.486348363416270E-03,-9.543324154983418E-05], \n",
    "                [0,0,0])\n",
    "pluto = Body( 1.0/135200000,\n",
    "                [-4.656585770964581E-01,-3.123136435608064E+01, 3.476634650132539E+00],\n",
    "                [3.195935187090267E-03,-6.368370346118488E-04,-8.563102596919757E-04], \n",
    "                [0,0,0])\n",
    "\n",
    "T_sonne = \n",
    "T_merkur = 88/2\n",
    "T_venus = 226/2\n",
    "T_erde = 366/2\n",
    "T_mars = 690/2\n",
    "T_jupiter = int(11.863*365/2)\n",
    "T_saturn = int(29.459*365/2)\n",
    "T_uranus = int(84.015*365/2)\n",
    "T_neptun = int(164.794*365/2)\n",
    "T_pluto = int(247.95*365/2)\n",
    "\n",
    "print(neptun.r[1])\n",
    "planeten = [sonne, merkur, venus, erdemond, mars, jupiter, saturn, uranus, neptun]\n",
    "N = len(planeten)\n",
    "h = 2.0\n",
    "data = [[[],[],[]], [[],[],[]], [[],[],[]], [[],[],[]], [[],[],[]], \n",
    "        [[],[],[]], [[],[],[]], [[],[],[]], [[],[],[]], [[],[],[]]]\n",
    "def update_forces():\n",
    "    for p in planeten:\n",
    "        for l in range(0,3):\n",
    "            p.f[l] = 0.0\n",
    "    for i in range(0,N-1):\n",
    "        for j in range(i+1,N):\n",
    "            d2 = 0.0\n",
    "            ir = 0.0\n",
    "            ir3 = 0.0\n",
    "            \n",
    "            d = [0,0,0]\n",
    "            for l in range(0,3):\n",
    "                d[l] = planeten[j].r[l] - planeten[i].r[l]\n",
    "                d2 += d[l]*d[l]\n",
    "            ir = 1.0 / math.sqrt(d2)\n",
    "            ir3 = ir*ir*ir\n",
    "            ir3 *= planeten[i].mass * planeten[j].mass\n",
    "            ir3 *= k*k\n",
    "            for l in range(0,3):\n",
    "                planeten[i].f[l] += ir3 * d[l]\n",
    "                planeten[j].f[l] -= ir3 * d[l]\n",
    "\n",
    "        \n",
    "        \n",
    "for iteration in range(0,500):\n",
    "    for p in planeten:\n",
    "        for n in range(0,3):\n",
    "            p.r[n] += 0.5 * h * p.v[n]\n",
    "            \n",
    "    update_forces()\n",
    "    \n",
    "    for p in planeten:\n",
    "        for n in range(0,3):\n",
    "            p.v[n] +=  h * (p.f[n] / p.mass)\n",
    "        #print(str(p.f[0]))\n",
    "    \n",
    "    for p in range(0,N):\n",
    "        for n in range(0,3):\n",
    "            planeten[p].r[n] += 0.5 * h * planeten[p].v[n]\n",
    "        for n in range(0,3):\n",
    "            data[p][n].append(planeten[p].r[n])"
   ]
  },
  {
   "cell_type": "code",
   "execution_count": 62,
   "metadata": {
    "collapsed": false
   },
   "outputs": [
    {
     "data": {
      "text/plain": [
       "<matplotlib.legend.Legend at 0x8a82910>"
      ]
     },
     "execution_count": 62,
     "metadata": {},
     "output_type": "execute_result"
    },
    {
     "data": {
      "image/png": "[encoded data removed]",
      "text/plain": [
       "<matplotlib.figure.Figure at 0x899faf0>"
      ]
     },
     "metadata": {},
     "output_type": "display_data"
    }
   ],
   "source": [
    "plt.plot(data[0][0], data[0][1], '-', label = 'sonne')\n",
    "plt.plot(data[1][0], data[1][1], '-', label = 'merkur')\n",
    "plt.plot(data[2][0], data[2][1], '-', label = 'venus')\n",
    "plt.plot(data[3][0], data[3][1], '-', label = 'erde')\n",
    "plt.plot(data[4][0], data[4][1], '-', label = 'mars')\n",
    "\n",
    "plt.legend(loc='upper right')"
   ]
  },
  {
   "cell_type": "code",
   "execution_count": null,
   "metadata": {
    "collapsed": true
   },
   "outputs": [],
   "source": [
    ""
   ]
  }
 ],
 "metadata": {
  "kernelspec": {
   "display_name": "Python 3",
   "language": "python",
   "name": "python3"
  },
  "language_info": {
   "codemirror_mode": {
    "name": "ipython",
    "version": 3.0
   },
   "file_extension": ".py",
   "mimetype": "text/x-python",
   "name": "python",
   "nbconvert_exporter": "python",
   "pygments_lexer": "ipython3",
   "version": "3.5.1"
  }
 },
 "nbformat": 4,
 "nbformat_minor": 0
}