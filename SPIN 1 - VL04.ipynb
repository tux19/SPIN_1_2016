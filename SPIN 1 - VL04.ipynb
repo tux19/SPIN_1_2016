{
 "cells": [
  {
   "cell_type": "markdown",
   "metadata": {},
   "source": [
    "# SPIN 1 - VL 04 -- Symplektische Integratoren\n",
    "\n",
    "## Harmonische Oszillation\n",
    "\n",
    "## Symplektische Integratoren - LeapFrog\n",
    "\n",
    "### Harmonische Oszillation\n",
    "\n",
    "### Pendel"
   ]
  },
  {
   "cell_type": "code",
   "execution_count": null,
   "metadata": {
    "collapsed": true
   },
   "outputs": [],
   "source": [
    "def leapfrog_step(x,v,f,dt):\n",
    "    q0 = x + 0.5 * dt * fp"
   ]
  }
 ],
 "metadata": {
  "kernelspec": {
   "display_name": "Python 3",
   "language": "python",
   "name": "python3"
  },
  "language_info": {
   "codemirror_mode": {
    "name": "ipython",
    "version": 3
   },
   "file_extension": ".py",
   "mimetype": "text/x-python",
   "name": "python",
   "nbconvert_exporter": "python",
   "pygments_lexer": "ipython3",
   "version": "3.5.1"
  }
 },
 "nbformat": 4,
 "nbformat_minor": 0
}
