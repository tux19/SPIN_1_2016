{
 "cells": [
  {
   "cell_type": "markdown",
   "metadata": {},
   "source": [
    "# SPIN 1 - VL 04 -- Symplektische Integratoren\n",
    "\n",
    "## Harmonische Oszillation\n",
    "\n",
    "## Symplektische Integratoren - LeapFrog\n",
    "\n",
    "\n"
   ]
  },
  {
   "cell_type": "code",
   "execution_count": 47,
   "metadata": {
    "collapsed": true
   },
   "outputs": [],
   "source": [
    "def leapfrog_step(p,q,f,dt):\n",
    "    fp = f[0]\n",
    "    fq = f[1]\n",
    "    q_half = q + 0.5 * dt * fq(p,q)\n",
    "    p_new = p + dt * fp(p,q_half)\n",
    "    q_new = q_half + 0.5 * dt * fq(p_new, q_half)\n",
    "    return np.array([p_new, q_new])"
   ]
  },
  {
   "cell_type": "markdown",
   "metadata": {},
   "source": [
    "### Harmonische Oszillation\n"
   ]
  },
  {
   "cell_type": "code",
   "execution_count": 48,
   "metadata": {
    "collapsed": true
   },
   "outputs": [],
   "source": [
    "import math\n",
    "import numpy as np\n",
    "import matplotlib.pyplot as plt\n",
    "%matplotlib inline\n",
    "\n",
    "def H1(p,q):\n",
    "    return 0.5 * (p**2 + q**2)\n",
    "\n",
    "def dH1q(p,q):\n",
    "    return q\n",
    "\n",
    "def dH1p(p,q):\n",
    "    return p\n",
    "\n",
    "def dpH1(p,q):\n",
    "    return -dH1q(p,q)\n",
    "\n",
    "def dqH1(p,q):\n",
    "    return dH1p(p,q)\n"
   ]
  },
  {
   "cell_type": "code",
   "execution_count": 49,
   "metadata": {
    "collapsed": false
   },
   "outputs": [],
   "source": [
    "N = 200\n",
    "dt = (2 * math.pi) / N\n",
    "\n",
    "f = [dpH1,dqH1]\n",
    "p0 = 0.1\n",
    "q0 = 0.5\n",
    "pq = np.empty((N, 2))\n",
    "pq[0] = np.array([p0, q0])\n",
    "\n",
    "\n",
    "for n in range(N-1):\n",
    "    pq[n+1] = leapfrog_step(pq[n][0], pq[n][1], f, dt)\n",
    "\n"
   ]
  },
  {
   "cell_type": "code",
   "execution_count": 50,
   "metadata": {
    "collapsed": false
   },
   "outputs": [
    {
     "data": {
      "text/plain": [
       "<matplotlib.legend.Legend at 0xaa0a70>"
      ]
     },
     "execution_count": 50,
     "metadata": {},
     "output_type": "execute_result"
    },
    {
     "data": {
      "image/png": "[encoded data removed]",
      "text/plain": [
       "<matplotlib.figure.Figure at 0xa705d0>"
      ]
     },
     "metadata": {},
     "output_type": "display_data"
    }
   ],
   "source": [
    "time = np.linspace(0.0, N*dt,N)\n",
    "p = [x[0] for x in pq]\n",
    "q = [x[1] for x in pq]\n",
    "\n",
    "plt.plot(q, p, '-', label = 'phase plot')\n",
    "plt.legend(loc='upper right')\n"
   ]
  },
  {
   "cell_type": "markdown",
   "metadata": {},
   "source": [
    "### Pendel"
   ]
  },
  {
   "cell_type": "code",
   "execution_count": 62,
   "metadata": {
    "collapsed": true
   },
   "outputs": [],
   "source": [
    "e = 8\n",
    "\n",
    "def H2(p,q):\n",
    "    return 0.5 * p**2 + e * np.cos(q)\n",
    "def dH2p(p,q):\n",
    "    return p\n",
    "\n",
    "def dH2q(p,q,):\n",
    "    return -e * np.sin(q)\n",
    "\n",
    "def dpH2(p,q):\n",
    "    return -dH2q(p,q)\n",
    "\n",
    "def dqH2(p,q):\n",
    "    return dH2p(p,q)\n"
   ]
  },
  {
   "cell_type": "code",
   "execution_count": 88,
   "metadata": {
    "collapsed": false
   },
   "outputs": [],
   "source": [
    "N = 100\n",
    "dt = (2 * math.pi) / N\n",
    "\n",
    "f = [dpH2,dqH2]\n",
    "p0 = -.2\n",
    "q0 = .2\n",
    "pq = np.empty((N, 2))\n",
    "pq[0] = np.array([p0, q0])\n",
    "\n",
    "\n",
    "for n in range(N-1):\n",
    "    pq[n+1] = leapfrog_step(pq[n][0], pq[n][1], f, dt)\n",
    "\n"
   ]
  },
  {
   "cell_type": "code",
   "execution_count": 89,
   "metadata": {
    "collapsed": false
   },
   "outputs": [
    {
     "data": {
      "text/plain": [
       "<matplotlib.legend.Legend at 0x82a5190>"
      ]
     },
     "execution_count": 89,
     "metadata": {},
     "output_type": "execute_result"
    },
    {
     "data": {
      "image/png": "[encoded data removed]",
      "text/plain": [
       "<matplotlib.figure.Figure at 0x6237c90>"
      ]
     },
     "metadata": {},
     "output_type": "display_data"
    }
   ],
   "source": [
    "time = np.linspace(0.0, N*dt,N)\n",
    "p = [x[0] for x in pq]\n",
    "q = [x[1] for x in pq]\n",
    "\n",
    "plt.plot(q, p, '-', label = 'phase plot')\n",
    "plt.legend(loc='upper right')"
   ]
  },
  {
   "cell_type": "code",
   "execution_count": null,
   "metadata": {
    "collapsed": true
   },
   "outputs": [],
   "source": []
  }
 ],
 "metadata": {
  "kernelspec": {
   "display_name": "Python 3",
   "language": "python",
   "name": "python3"
  },
  "language_info": {
   "codemirror_mode": {
    "name": "ipython",
    "version": 3
   },
   "file_extension": ".py",
   "mimetype": "text/x-python",
   "name": "python",
   "nbconvert_exporter": "python",
   "pygments_lexer": "ipython3",
   "version": "3.5.1"
  }
 },
 "nbformat": 4,
 "nbformat_minor": 0
}
